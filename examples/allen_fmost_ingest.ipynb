{
 "cells": [
  {
   "cell_type": "markdown",
   "metadata": {},
   "source": [
    "# Allen fMOST ingest demo \n",
    "\n",
    "In this notebook we will showcase loading neuronal reconstructions from [Sorensen et al](https://www.biorxiv.org/content/10.1101/2023.11.25.568393v1). \n",
    "\n",
    "To run this code you will need to install/download the following packages and data:\n",
    "- the fMOST reconstructions (in our case kindly provided by S. Sorensen directly)\n",
    "- the Allen CCF template downloaded from [here](https://download.alleninstitute.org/informatics-archive/current-release/mouse_ccf/average_template/)\n",
    "- the following Python packages:\n",
    "  - [navis](https://github.com/navis-org/navis) \n",
    "  - [navis-mousebrains](https://github.com/navis-org/navis-mousebrains/tree/main/mousebrains/data)"
   ]
  },
  {
   "cell_type": "code",
   "execution_count": 1,
   "metadata": {},
   "outputs": [],
   "source": [
    "import navis\n",
    "import mousebrains"
   ]
  },
  {
   "cell_type": "code",
   "execution_count": 2,
   "metadata": {},
   "outputs": [
    {
     "data": {
      "application/vnd.jupyter.widget-view+json": {
       "model_id": "7154f57f1a8f47aeb6df9f64cd9203ca",
       "version_major": 2,
       "version_minor": 0
      },
      "text/plain": [
       "Importing:   0%|          | 0/110 [00:00<?, ?it/s]"
      ]
     },
     "metadata": {},
     "output_type": "display_data"
    },
    {
     "data": {
      "text/html": [
       "&lt;class 'navis.core.neuronlist.NeuronList'&gt; containing 110 neurons (68.1MiB)<div>\n",
       "<style scoped>\n",
       "    .dataframe tbody tr th:only-of-type {\n",
       "        vertical-align: middle;\n",
       "    }\n",
       "\n",
       "    .dataframe tbody tr th {\n",
       "        vertical-align: top;\n",
       "    }\n",
       "\n",
       "    .dataframe thead th {\n",
       "        text-align: right;\n",
       "    }\n",
       "</style>\n",
       "<table border=\"1\" class=\"dataframe\">\n",
       "  <thead>\n",
       "    <tr style=\"text-align: right;\">\n",
       "      <th></th>\n",
       "      <th>type</th>\n",
       "      <th>name</th>\n",
       "      <th>n_nodes</th>\n",
       "      <th>n_connectors</th>\n",
       "      <th>n_branches</th>\n",
       "      <th>n_leafs</th>\n",
       "      <th>cable_length</th>\n",
       "      <th>soma</th>\n",
       "      <th>units</th>\n",
       "      <th>created_at</th>\n",
       "      <th>origin</th>\n",
       "      <th>file</th>\n",
       "    </tr>\n",
       "  </thead>\n",
       "  <tbody>\n",
       "    <tr>\n",
       "      <th>0</th>\n",
       "      <td>navis.TreeNeuron</td>\n",
       "      <td>18469_6731-X8443-Y39338_reg</td>\n",
       "      <td>65872</td>\n",
       "      <td>None</td>\n",
       "      <td>231</td>\n",
       "      <td>239</td>\n",
       "      <td>77686.390625</td>\n",
       "      <td>None</td>\n",
       "      <td>1 dimensionless</td>\n",
       "      <td>2024-06-11 11:51:23.354284</td>\n",
       "      <td>UM1_DATA_swcFiles/18469_6731-X8443-Y39338_reg.swc</td>\n",
       "      <td>18469_6731-X8443-Y39338_reg.swc</td>\n",
       "    </tr>\n",
       "    <tr>\n",
       "      <th>1</th>\n",
       "      <td>navis.TreeNeuron</td>\n",
       "      <td>18457_6269-X26956-Y8702_reg</td>\n",
       "      <td>25407</td>\n",
       "      <td>None</td>\n",
       "      <td>130</td>\n",
       "      <td>138</td>\n",
       "      <td>34936.582031</td>\n",
       "      <td>None</td>\n",
       "      <td>1 dimensionless</td>\n",
       "      <td>2024-06-11 11:51:23.367255</td>\n",
       "      <td>UM1_DATA_swcFiles/18457_6269-X26956-Y8702_reg.swc</td>\n",
       "      <td>18457_6269-X26956-Y8702_reg.swc</td>\n",
       "    </tr>\n",
       "    <tr>\n",
       "      <th>...</th>\n",
       "      <td>...</td>\n",
       "      <td>...</td>\n",
       "      <td>...</td>\n",
       "      <td>...</td>\n",
       "      <td>...</td>\n",
       "      <td>...</td>\n",
       "      <td>...</td>\n",
       "      <td>...</td>\n",
       "      <td>...</td>\n",
       "      <td>...</td>\n",
       "      <td>...</td>\n",
       "      <td>...</td>\n",
       "    </tr>\n",
       "    <tr>\n",
       "      <th>108</th>\n",
       "      <td>navis.TreeNeuron</td>\n",
       "      <td>18465_6342-X5487-Y11501_reg</td>\n",
       "      <td>17414</td>\n",
       "      <td>None</td>\n",
       "      <td>143</td>\n",
       "      <td>149</td>\n",
       "      <td>34682.078125</td>\n",
       "      <td>None</td>\n",
       "      <td>1 dimensionless</td>\n",
       "      <td>2024-06-11 11:51:24.964595</td>\n",
       "      <td>UM1_DATA_swcFiles/18465_6342-X5487-Y11501_reg.swc</td>\n",
       "      <td>18465_6342-X5487-Y11501_reg.swc</td>\n",
       "    </tr>\n",
       "    <tr>\n",
       "      <th>109</th>\n",
       "      <td>navis.TreeNeuron</td>\n",
       "      <td>17781_6802-X8324-Y14113_reg</td>\n",
       "      <td>48848</td>\n",
       "      <td>None</td>\n",
       "      <td>174</td>\n",
       "      <td>179</td>\n",
       "      <td>60230.136719</td>\n",
       "      <td>None</td>\n",
       "      <td>1 dimensionless</td>\n",
       "      <td>2024-06-11 11:51:24.986648</td>\n",
       "      <td>UM1_DATA_swcFiles/17781_6802-X8324-Y14113_reg.swc</td>\n",
       "      <td>17781_6802-X8324-Y14113_reg.swc</td>\n",
       "    </tr>\n",
       "  </tbody>\n",
       "</table>\n",
       "</div>"
      ],
      "text/plain": [
       "<class 'navis.core.neuronlist.NeuronList'> containing 110 neurons (68.1MiB)\n",
       "                 type                         name  n_nodes n_connectors  \\\n",
       "0    navis.TreeNeuron  18469_6731-X8443-Y39338_reg    65872         None   \n",
       "1    navis.TreeNeuron  18457_6269-X26956-Y8702_reg    25407         None   \n",
       "..                ...                          ...      ...          ...   \n",
       "108  navis.TreeNeuron  18465_6342-X5487-Y11501_reg    17414         None   \n",
       "109  navis.TreeNeuron  17781_6802-X8324-Y14113_reg    48848         None   \n",
       "\n",
       "     n_branches  n_leafs  cable_length  soma            units  \\\n",
       "0           231      239  77686.390625  None  1 dimensionless   \n",
       "1           130      138  34936.582031  None  1 dimensionless   \n",
       "..          ...      ...           ...   ...              ...   \n",
       "108         143      149  34682.078125  None  1 dimensionless   \n",
       "109         174      179  60230.136719  None  1 dimensionless   \n",
       "\n",
       "                     created_at  \\\n",
       "0    2024-06-11 11:51:23.354284   \n",
       "1    2024-06-11 11:51:23.367255   \n",
       "..                          ...   \n",
       "108  2024-06-11 11:51:24.964595   \n",
       "109  2024-06-11 11:51:24.986648   \n",
       "\n",
       "                                                origin  \\\n",
       "0    UM1_DATA_swcFiles/18469_6731-X8443-Y39338_reg.swc   \n",
       "1    UM1_DATA_swcFiles/18457_6269-X26956-Y8702_reg.swc   \n",
       "..                                                 ...   \n",
       "108  UM1_DATA_swcFiles/18465_6342-X5487-Y11501_reg.swc   \n",
       "109  UM1_DATA_swcFiles/17781_6802-X8324-Y14113_reg.swc   \n",
       "\n",
       "                                file  \n",
       "0    18469_6731-X8443-Y39338_reg.swc  \n",
       "1    18457_6269-X26956-Y8702_reg.swc  \n",
       "..                               ...  \n",
       "108  18465_6342-X5487-Y11501_reg.swc  \n",
       "109  17781_6802-X8324-Y14113_reg.swc  "
      ]
     },
     "execution_count": 2,
     "metadata": {},
     "output_type": "execute_result"
    }
   ],
   "source": [
    "# Load the HPF fMOST dataset (adjust file path as needed)\n",
    "neurons = navis.read_swc(\n",
    "    \"UM1_DATA_swcFiles/\"\n",
    ")\n",
    "\n",
    "# # Add meta data from CSV\n",
    "neurons.add_metadata('UM1_DATA_swcFiles/MetaData.csv',\n",
    "                      id_col='swc_name', neuron_id='file')\n",
    "\n",
    "# # Show a quick summary of the loaded neurons\n",
    "neurons"
   ]
  },
  {
   "cell_type": "code",
   "execution_count": 3,
   "metadata": {},
   "outputs": [],
   "source": [
    "# Make our life a bit easier by translating the SWC labels\n",
    "for n in neurons:\n",
    "    # Set the soma based on the label\n",
    "    n.soma = n.nodes.loc[n.nodes.label == 1, \"node_id\"].values[0]\n",
    "\n",
    "    # Set a compartments column\n",
    "    n.nodes[\"compartment\"] = (\n",
    "        n.nodes.label.map(\n",
    "            {\n",
    "                1: \"soma\",\n",
    "                2: \"axon\",\n",
    "                3: \"dendrite\",\n",
    "                4: \"apical dendrite\",\n",
    "            }\n",
    "        )\n",
    "        .astype(str)\n",
    "        .fillna(\"undefined\")\n",
    "        .astype(\"category\")\n",
    "    )"
   ]
  },
  {
   "cell_type": "code",
   "execution_count": 5,
   "metadata": {},
   "outputs": [
    {
     "ename": "KeyboardInterrupt",
     "evalue": "",
     "output_type": "error",
     "traceback": [
      "\u001b[0;31m---------------------------------------------------------------------------\u001b[0m",
      "\u001b[0;31mKeyboardInterrupt\u001b[0m                         Traceback (most recent call last)",
      "Cell \u001b[0;32mIn[5], line 13\u001b[0m\n\u001b[1;32m      4\u001b[0m comp_colors \u001b[38;5;241m=\u001b[39m {\n\u001b[1;32m      5\u001b[0m     \u001b[38;5;124m\"\u001b[39m\u001b[38;5;124msoma\u001b[39m\u001b[38;5;124m\"\u001b[39m: \u001b[38;5;124m\"\u001b[39m\u001b[38;5;124mk\u001b[39m\u001b[38;5;124m\"\u001b[39m,\n\u001b[1;32m      6\u001b[0m     \u001b[38;5;124m\"\u001b[39m\u001b[38;5;124maxon\u001b[39m\u001b[38;5;124m\"\u001b[39m: \u001b[38;5;124m\"\u001b[39m\u001b[38;5;124mblue\u001b[39m\u001b[38;5;124m\"\u001b[39m,\n\u001b[1;32m      7\u001b[0m     \u001b[38;5;124m\"\u001b[39m\u001b[38;5;124mdendrite\u001b[39m\u001b[38;5;124m\"\u001b[39m: \u001b[38;5;124m\"\u001b[39m\u001b[38;5;124mred\u001b[39m\u001b[38;5;124m\"\u001b[39m,\n\u001b[1;32m      8\u001b[0m     \u001b[38;5;124m\"\u001b[39m\u001b[38;5;124mapical dendrite\u001b[39m\u001b[38;5;124m\"\u001b[39m: \u001b[38;5;124m\"\u001b[39m\u001b[38;5;124mpurple\u001b[39m\u001b[38;5;124m\"\u001b[39m,\n\u001b[1;32m      9\u001b[0m }\n\u001b[1;32m     11\u001b[0m \u001b[38;5;66;03m# N.B. the brain mesh is currently pretty high res which slows down plotting\u001b[39;00m\n\u001b[1;32m     12\u001b[0m \u001b[38;5;66;03m# (might switch to a lower res version in the future)\u001b[39;00m\n\u001b[0;32m---> 13\u001b[0m \u001b[43mnavis\u001b[49m\u001b[38;5;241;43m.\u001b[39;49m\u001b[43mplot2d\u001b[49m\u001b[43m(\u001b[49m\n\u001b[1;32m     14\u001b[0m \u001b[43m    \u001b[49m\u001b[43m[\u001b[49m\u001b[43mneurons\u001b[49m\u001b[43m,\u001b[49m\u001b[43m \u001b[49m\u001b[43mmousebrains\u001b[49m\u001b[38;5;241;43m.\u001b[39;49m\u001b[43mAllenCCF\u001b[49m\u001b[43m]\u001b[49m\u001b[43m,\u001b[49m\u001b[43m \u001b[49m\u001b[43mcolor_by\u001b[49m\u001b[38;5;241;43m=\u001b[39;49m\u001b[38;5;124;43m\"\u001b[39;49m\u001b[38;5;124;43mcompartment\u001b[39;49m\u001b[38;5;124;43m\"\u001b[39;49m\u001b[43m,\u001b[49m\u001b[43m \u001b[49m\u001b[43mpalette\u001b[49m\u001b[38;5;241;43m=\u001b[39;49m\u001b[43mcomp_colors\u001b[49m\n\u001b[1;32m     15\u001b[0m \u001b[43m)\u001b[49m\n\u001b[1;32m     17\u001b[0m \u001b[38;5;28;01mimport\u001b[39;00m \u001b[38;5;21;01mmatplotlib\u001b[39;00m\u001b[38;5;21;01m.\u001b[39;00m\u001b[38;5;21;01mpyplot\u001b[39;00m \u001b[38;5;28;01mas\u001b[39;00m \u001b[38;5;21;01mplt\u001b[39;00m\n\u001b[1;32m     18\u001b[0m plt\u001b[38;5;241m.\u001b[39msavefig(\u001b[38;5;124m'\u001b[39m\u001b[38;5;124mallen_um1.png\u001b[39m\u001b[38;5;124m'\u001b[39m, transparent\u001b[38;5;241m=\u001b[39m\u001b[38;5;28;01mTrue\u001b[39;00m, dpi\u001b[38;5;241m=\u001b[39m\u001b[38;5;241m900\u001b[39m)\n",
      "File \u001b[0;32m~/Github/navis/navis/plotting/dd.py:432\u001b[0m, in \u001b[0;36mplot2d\u001b[0;34m(x, method, **kwargs)\u001b[0m\n\u001b[1;32m    430\u001b[0m \u001b[38;5;28;01mif\u001b[39;00m volumes:\n\u001b[1;32m    431\u001b[0m     \u001b[38;5;28;01mfor\u001b[39;00m i, v \u001b[38;5;129;01min\u001b[39;00m \u001b[38;5;28menumerate\u001b[39m(volumes):\n\u001b[0;32m--> 432\u001b[0m         _ \u001b[38;5;241m=\u001b[39m \u001b[43m_plot_volume\u001b[49m\u001b[43m(\u001b[49m\u001b[43mv\u001b[49m\u001b[43m,\u001b[49m\n\u001b[1;32m    433\u001b[0m \u001b[43m                         \u001b[49m\u001b[43mvolumes_cmap\u001b[49m\u001b[43m[\u001b[49m\u001b[43mi\u001b[49m\u001b[43m]\u001b[49m\u001b[43m,\u001b[49m\n\u001b[1;32m    434\u001b[0m \u001b[43m                         \u001b[49m\u001b[43mmethod\u001b[49m\u001b[43m,\u001b[49m\n\u001b[1;32m    435\u001b[0m \u001b[43m                         \u001b[49m\u001b[43max\u001b[49m\u001b[43m,\u001b[49m\n\u001b[1;32m    436\u001b[0m \u001b[43m                         \u001b[49m\u001b[38;5;241;43m*\u001b[39;49m\u001b[38;5;241;43m*\u001b[39;49m\u001b[43mkwargs\u001b[49m\u001b[43m)\u001b[49m\n\u001b[1;32m    438\u001b[0m \u001b[38;5;66;03m# Create lines from segments\u001b[39;00m\n\u001b[1;32m    439\u001b[0m visuals \u001b[38;5;241m=\u001b[39m {}\n",
      "File \u001b[0;32m~/Github/navis/navis/plotting/dd.py:1058\u001b[0m, in \u001b[0;36m_plot_volume\u001b[0;34m(volume, color, method, ax, **kwargs)\u001b[0m\n\u001b[1;32m   1055\u001b[0m \u001b[38;5;28;01mif\u001b[39;00m \u001b[38;5;28mlen\u001b[39m(color) \u001b[38;5;241m==\u001b[39m \u001b[38;5;241m3\u001b[39m:\n\u001b[1;32m   1056\u001b[0m     color \u001b[38;5;241m=\u001b[39m (color[\u001b[38;5;241m0\u001b[39m], color[\u001b[38;5;241m1\u001b[39m], color[\u001b[38;5;241m2\u001b[39m], \u001b[38;5;241m.1\u001b[39m)\n\u001b[0;32m-> 1058\u001b[0m ts \u001b[38;5;241m=\u001b[39m \u001b[43max\u001b[49m\u001b[38;5;241;43m.\u001b[39;49m\u001b[43mplot_trisurf\u001b[49m\u001b[43m(\u001b[49m\u001b[43mverts\u001b[49m\u001b[43m[\u001b[49m\u001b[43m:\u001b[49m\u001b[43m,\u001b[49m\u001b[43m \u001b[49m\u001b[38;5;241;43m0\u001b[39;49m\u001b[43m]\u001b[49m\u001b[43m,\u001b[49m\n\u001b[1;32m   1059\u001b[0m \u001b[43m                     \u001b[49m\u001b[43mverts\u001b[49m\u001b[43m[\u001b[49m\u001b[43m:\u001b[49m\u001b[43m,\u001b[49m\u001b[43m \u001b[49m\u001b[38;5;241;43m1\u001b[39;49m\u001b[43m]\u001b[49m\u001b[43m,\u001b[49m\n\u001b[1;32m   1060\u001b[0m \u001b[43m                     \u001b[49m\u001b[43mvolume\u001b[49m\u001b[38;5;241;43m.\u001b[39;49m\u001b[43mfaces\u001b[49m\u001b[43m,\u001b[49m\n\u001b[1;32m   1061\u001b[0m \u001b[43m                     \u001b[49m\u001b[43mverts\u001b[49m\u001b[43m[\u001b[49m\u001b[43m:\u001b[49m\u001b[43m,\u001b[49m\u001b[43m \u001b[49m\u001b[38;5;241;43m2\u001b[39;49m\u001b[43m]\u001b[49m\u001b[43m,\u001b[49m\n\u001b[1;32m   1062\u001b[0m \u001b[43m                     \u001b[49m\u001b[43mlabel\u001b[49m\u001b[38;5;241;43m=\u001b[39;49m\u001b[43mname\u001b[49m\u001b[43m,\u001b[49m\n\u001b[1;32m   1063\u001b[0m \u001b[43m                     \u001b[49m\u001b[43mrasterized\u001b[49m\u001b[38;5;241;43m=\u001b[39;49m\u001b[43mrasterize\u001b[49m\u001b[43m,\u001b[49m\n\u001b[1;32m   1064\u001b[0m \u001b[43m                     \u001b[49m\u001b[43mcolor\u001b[49m\u001b[38;5;241;43m=\u001b[39;49m\u001b[43mcolor\u001b[49m\u001b[43m)\u001b[49m\n\u001b[1;32m   1065\u001b[0m ts\u001b[38;5;241m.\u001b[39mset_gid(name)\n",
      "File \u001b[0;32m~/.pyenv/versions/3.11.8/lib/python3.11/site-packages/mpl_toolkits/mplot3d/axes3d.py:2027\u001b[0m, in \u001b[0;36mAxes3D.plot_trisurf\u001b[0;34m(self, color, norm, vmin, vmax, lightsource, *args, **kwargs)\u001b[0m\n\u001b[1;32m   2025\u001b[0m         polyc\u001b[38;5;241m.\u001b[39mset_norm(norm)\n\u001b[1;32m   2026\u001b[0m \u001b[38;5;28;01melse\u001b[39;00m:\n\u001b[0;32m-> 2027\u001b[0m     polyc \u001b[38;5;241m=\u001b[39m \u001b[43mart3d\u001b[49m\u001b[38;5;241;43m.\u001b[39;49m\u001b[43mPoly3DCollection\u001b[49m\u001b[43m(\u001b[49m\n\u001b[1;32m   2028\u001b[0m \u001b[43m        \u001b[49m\u001b[43mverts\u001b[49m\u001b[43m,\u001b[49m\u001b[43m \u001b[49m\u001b[38;5;241;43m*\u001b[39;49m\u001b[43margs\u001b[49m\u001b[43m,\u001b[49m\u001b[43m \u001b[49m\u001b[43mshade\u001b[49m\u001b[38;5;241;43m=\u001b[39;49m\u001b[43mshade\u001b[49m\u001b[43m,\u001b[49m\u001b[43m \u001b[49m\u001b[43mlightsource\u001b[49m\u001b[38;5;241;43m=\u001b[39;49m\u001b[43mlightsource\u001b[49m\u001b[43m,\u001b[49m\n\u001b[1;32m   2029\u001b[0m \u001b[43m        \u001b[49m\u001b[43mfacecolors\u001b[49m\u001b[38;5;241;43m=\u001b[39;49m\u001b[43mcolor\u001b[49m\u001b[43m,\u001b[49m\u001b[43m \u001b[49m\u001b[38;5;241;43m*\u001b[39;49m\u001b[38;5;241;43m*\u001b[39;49m\u001b[43mkwargs\u001b[49m\u001b[43m)\u001b[49m\n\u001b[1;32m   2031\u001b[0m \u001b[38;5;28mself\u001b[39m\u001b[38;5;241m.\u001b[39madd_collection(polyc)\n\u001b[1;32m   2032\u001b[0m \u001b[38;5;28mself\u001b[39m\u001b[38;5;241m.\u001b[39mauto_scale_xyz(tri\u001b[38;5;241m.\u001b[39mx, tri\u001b[38;5;241m.\u001b[39my, z, had_data)\n",
      "File \u001b[0;32m~/.pyenv/versions/3.11.8/lib/python3.11/site-packages/mpl_toolkits/mplot3d/art3d.py:913\u001b[0m, in \u001b[0;36mPoly3DCollection.__init__\u001b[0;34m(self, verts, zsort, shade, lightsource, *args, **kwargs)\u001b[0m\n\u001b[1;32m    909\u001b[0m     \u001b[38;5;28;01mif\u001b[39;00m facecolors \u001b[38;5;129;01mis\u001b[39;00m \u001b[38;5;28;01mNone\u001b[39;00m \u001b[38;5;129;01mand\u001b[39;00m edgecolors \u001b[38;5;129;01mis\u001b[39;00m \u001b[38;5;28;01mNone\u001b[39;00m:\n\u001b[1;32m    910\u001b[0m         \u001b[38;5;28;01mraise\u001b[39;00m \u001b[38;5;167;01mValueError\u001b[39;00m(\n\u001b[1;32m    911\u001b[0m             \u001b[38;5;124m\"\u001b[39m\u001b[38;5;124mYou must provide facecolors, edgecolors, or both for \u001b[39m\u001b[38;5;124m\"\u001b[39m\n\u001b[1;32m    912\u001b[0m             \u001b[38;5;124m\"\u001b[39m\u001b[38;5;124mshade to work.\u001b[39m\u001b[38;5;124m\"\u001b[39m)\n\u001b[0;32m--> 913\u001b[0m \u001b[38;5;28;43msuper\u001b[39;49m\u001b[43m(\u001b[49m\u001b[43m)\u001b[49m\u001b[38;5;241;43m.\u001b[39;49m\u001b[38;5;21;43m__init__\u001b[39;49m\u001b[43m(\u001b[49m\u001b[43mverts\u001b[49m\u001b[43m,\u001b[49m\u001b[43m \u001b[49m\u001b[38;5;241;43m*\u001b[39;49m\u001b[43margs\u001b[49m\u001b[43m,\u001b[49m\u001b[43m \u001b[49m\u001b[38;5;241;43m*\u001b[39;49m\u001b[38;5;241;43m*\u001b[39;49m\u001b[43mkwargs\u001b[49m\u001b[43m)\u001b[49m\n\u001b[1;32m    914\u001b[0m \u001b[38;5;28;01mif\u001b[39;00m \u001b[38;5;28misinstance\u001b[39m(verts, np\u001b[38;5;241m.\u001b[39mndarray):\n\u001b[1;32m    915\u001b[0m     \u001b[38;5;28;01mif\u001b[39;00m verts\u001b[38;5;241m.\u001b[39mndim \u001b[38;5;241m!=\u001b[39m \u001b[38;5;241m3\u001b[39m:\n",
      "File \u001b[0;32m~/.pyenv/versions/3.11.8/lib/python3.11/site-packages/matplotlib/collections.py:1200\u001b[0m, in \u001b[0;36mPolyCollection.__init__\u001b[0;34m(self, verts, sizes, closed, **kwargs)\u001b[0m\n\u001b[1;32m   1198\u001b[0m \u001b[38;5;28msuper\u001b[39m()\u001b[38;5;241m.\u001b[39m\u001b[38;5;21m__init__\u001b[39m(\u001b[38;5;241m*\u001b[39m\u001b[38;5;241m*\u001b[39mkwargs)\n\u001b[1;32m   1199\u001b[0m \u001b[38;5;28mself\u001b[39m\u001b[38;5;241m.\u001b[39mset_sizes(sizes)\n\u001b[0;32m-> 1200\u001b[0m \u001b[38;5;28;43mself\u001b[39;49m\u001b[38;5;241;43m.\u001b[39;49m\u001b[43mset_verts\u001b[49m\u001b[43m(\u001b[49m\u001b[43mverts\u001b[49m\u001b[43m,\u001b[49m\u001b[43m \u001b[49m\u001b[43mclosed\u001b[49m\u001b[43m)\u001b[49m\n\u001b[1;32m   1201\u001b[0m \u001b[38;5;28mself\u001b[39m\u001b[38;5;241m.\u001b[39mstale \u001b[38;5;241m=\u001b[39m \u001b[38;5;28;01mTrue\u001b[39;00m\n",
      "File \u001b[0;32m~/.pyenv/versions/3.11.8/lib/python3.11/site-packages/mpl_toolkits/mplot3d/art3d.py:969\u001b[0m, in \u001b[0;36mPoly3DCollection.set_verts\u001b[0;34m(self, verts, closed)\u001b[0m\n\u001b[1;32m    955\u001b[0m \u001b[38;5;28;01mdef\u001b[39;00m \u001b[38;5;21mset_verts\u001b[39m(\u001b[38;5;28mself\u001b[39m, verts, closed\u001b[38;5;241m=\u001b[39m\u001b[38;5;28;01mTrue\u001b[39;00m):\n\u001b[1;32m    956\u001b[0m \u001b[38;5;250m    \u001b[39m\u001b[38;5;124;03m\"\"\"\u001b[39;00m\n\u001b[1;32m    957\u001b[0m \u001b[38;5;124;03m    Set 3D vertices.\u001b[39;00m\n\u001b[1;32m    958\u001b[0m \n\u001b[0;32m   (...)\u001b[0m\n\u001b[1;32m    967\u001b[0m \u001b[38;5;124;03m        connection at the end.\u001b[39;00m\n\u001b[1;32m    968\u001b[0m \u001b[38;5;124;03m    \"\"\"\u001b[39;00m\n\u001b[0;32m--> 969\u001b[0m     \u001b[38;5;28;43mself\u001b[39;49m\u001b[38;5;241;43m.\u001b[39;49m\u001b[43mget_vector\u001b[49m\u001b[43m(\u001b[49m\u001b[43mverts\u001b[49m\u001b[43m)\u001b[49m\n\u001b[1;32m    970\u001b[0m     \u001b[38;5;66;03m# 2D verts will be updated at draw time\u001b[39;00m\n\u001b[1;32m    971\u001b[0m     \u001b[38;5;28msuper\u001b[39m()\u001b[38;5;241m.\u001b[39mset_verts([], \u001b[38;5;28;01mFalse\u001b[39;00m)\n",
      "File \u001b[0;32m~/.pyenv/versions/3.11.8/lib/python3.11/site-packages/mpl_toolkits/mplot3d/art3d.py:952\u001b[0m, in \u001b[0;36mPoly3DCollection.get_vector\u001b[0;34m(self, segments3d)\u001b[0m\n\u001b[1;32m    949\u001b[0m ones \u001b[38;5;241m=\u001b[39m np\u001b[38;5;241m.\u001b[39mones(\u001b[38;5;28mlen\u001b[39m(xs))\n\u001b[1;32m    950\u001b[0m \u001b[38;5;28mself\u001b[39m\u001b[38;5;241m.\u001b[39m_vec \u001b[38;5;241m=\u001b[39m np\u001b[38;5;241m.\u001b[39marray([xs, ys, zs, ones])\n\u001b[0;32m--> 952\u001b[0m indices \u001b[38;5;241m=\u001b[39m [\u001b[38;5;241m0\u001b[39m, \u001b[38;5;241m*\u001b[39mnp\u001b[38;5;241m.\u001b[39mcumsum(\u001b[43m[\u001b[49m\u001b[38;5;28;43mlen\u001b[39;49m\u001b[43m(\u001b[49m\u001b[43msegment\u001b[49m\u001b[43m)\u001b[49m\u001b[43m \u001b[49m\u001b[38;5;28;43;01mfor\u001b[39;49;00m\u001b[43m \u001b[49m\u001b[43msegment\u001b[49m\u001b[43m \u001b[49m\u001b[38;5;129;43;01min\u001b[39;49;00m\u001b[43m \u001b[49m\u001b[43msegments3d\u001b[49m\u001b[43m]\u001b[49m)]\n\u001b[1;32m    953\u001b[0m \u001b[38;5;28mself\u001b[39m\u001b[38;5;241m.\u001b[39m_segslices \u001b[38;5;241m=\u001b[39m [\u001b[38;5;241m*\u001b[39m\u001b[38;5;28mmap\u001b[39m(\u001b[38;5;28mslice\u001b[39m, indices[:\u001b[38;5;241m-\u001b[39m\u001b[38;5;241m1\u001b[39m], indices[\u001b[38;5;241m1\u001b[39m:])]\n",
      "File \u001b[0;32m~/.pyenv/versions/3.11.8/lib/python3.11/site-packages/mpl_toolkits/mplot3d/art3d.py:952\u001b[0m, in \u001b[0;36m<listcomp>\u001b[0;34m(.0)\u001b[0m\n\u001b[1;32m    949\u001b[0m ones \u001b[38;5;241m=\u001b[39m np\u001b[38;5;241m.\u001b[39mones(\u001b[38;5;28mlen\u001b[39m(xs))\n\u001b[1;32m    950\u001b[0m \u001b[38;5;28mself\u001b[39m\u001b[38;5;241m.\u001b[39m_vec \u001b[38;5;241m=\u001b[39m np\u001b[38;5;241m.\u001b[39marray([xs, ys, zs, ones])\n\u001b[0;32m--> 952\u001b[0m indices \u001b[38;5;241m=\u001b[39m [\u001b[38;5;241m0\u001b[39m, \u001b[38;5;241m*\u001b[39mnp\u001b[38;5;241m.\u001b[39mcumsum([\u001b[38;5;28mlen\u001b[39m(segment) \u001b[38;5;28;01mfor\u001b[39;00m segment \u001b[38;5;129;01min\u001b[39;00m segments3d])]\n\u001b[1;32m    953\u001b[0m \u001b[38;5;28mself\u001b[39m\u001b[38;5;241m.\u001b[39m_segslices \u001b[38;5;241m=\u001b[39m [\u001b[38;5;241m*\u001b[39m\u001b[38;5;28mmap\u001b[39m(\u001b[38;5;28mslice\u001b[39m, indices[:\u001b[38;5;241m-\u001b[39m\u001b[38;5;241m1\u001b[39m], indices[\u001b[38;5;241m1\u001b[39m:])]\n",
      "\u001b[0;31mKeyboardInterrupt\u001b[0m: "
     ]
    },
    {
     "data": {
      "image/png": "[encoded data removed]",
      "text/plain": [
       "<Figure size 720x720 with 1 Axes>"
      ]
     },
     "metadata": {
      "needs_background": "light"
     },
     "output_type": "display_data"
    }
   ],
   "source": [
    "# Lets plot these neurons\n",
    "\n",
    "# Set a colormap for the compartment\n",
    "comp_colors = {\n",
    "    \"soma\": \"k\",\n",
    "    \"axon\": \"blue\",\n",
    "    \"dendrite\": \"red\",\n",
    "    \"apical dendrite\": \"purple\",\n",
    "}\n",
    "\n",
    "# N.B. the brain mesh is currently pretty high res which slows down plotting\n",
    "# (might switch to a lower res version in the future)\n",
    "navis.plot2d(\n",
    "    [neurons, mousebrains.AllenCCF], color_by=\"compartment\", palette=comp_colors\n",
    ")"
   ]
  },
  {
   "cell_type": "code",
   "execution_count": null,
   "metadata": {},
   "outputs": [],
   "source": [
    "# We can also generate an interactive 3D plot using the plotly backend\n",
    "navis.plot3d(\n",
    "    [neurons[:10], mousebrains.AllenCCF], color_by=\"compartment\", palette=comp_colors\n",
    ")"
   ]
  }
 ],
 "metadata": {
  "kernelspec": {
   "display_name": "Python 3",
   "language": "python",
   "name": "python3"
  },
  "language_info": {
   "codemirror_mode": {
    "name": "ipython",
    "version": 3
   },
   "file_extension": ".py",
   "mimetype": "text/x-python",
   "name": "python",
   "nbconvert_exporter": "python",
   "pygments_lexer": "ipython3",
   "version": "3.11.8"
  }
 },
 "nbformat": 4,
 "nbformat_minor": 2
}
